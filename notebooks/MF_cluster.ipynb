{
 "cells": [
  {
   "cell_type": "code",
   "execution_count": 1,
   "metadata": {},
   "outputs": [],
   "source": [
    "%load_ext autoreload\n",
    "%autoreload 2\n",
    "\n",
    "import numpy as np \n",
    "import camb \n",
    "from numpy.fft import fftshift\n",
    "from tqdm import tqdm\n",
    "\n",
    "import lensit as li\n",
    "from lensit.clusterlens import lensingmap, profile \n",
    "from lensit.misc.misc_utils import gauss_beam\n",
    "from lensit.ffs_covs import ffs_cov, ell_mat\n",
    "from plancklens.wigners import wigners\n",
    "from plancklens import n0s, nhl\n",
    "from plancklens.n1 import n1\n",
    "\n",
    "import os\n",
    "import os.path as op\n",
    "import matplotlib as mpl\n",
    "from matplotlib import pyplot as plt\n",
    "from lensit.qcinv import multigrid, chain_samples, ffs_ninv_filt_ideal_nufft as filtr\n",
    "from scipy.interpolate import UnivariateSpline as spline"
   ]
  },
  {
   "cell_type": "code",
   "execution_count": 2,
   "metadata": {},
   "outputs": [],
   "source": [
    "# We start by intiating CAMB which will give us the relevant cosmology \n",
    "cambinifile = 'planck_2018_acc'\n",
    "\n",
    "pars = camb.read_ini(op.join(op.dirname(camb.__path__[0]),  'inifiles', cambinifile + '.ini'))\n",
    "results = camb.get_results(pars)"
   ]
  },
  {
   "cell_type": "code",
   "execution_count": 3,
   "metadata": {},
   "outputs": [
    {
     "name": "stdout",
     "output_type": "stream",
     "text": [
      "The size of the data patch is 307.2 X 307.2 arcmin central box\n",
      "/Users/sayan/Project_Geneva/modules/lensit_sims/temp/clustermaps/camb_planck_2018_acc/cmbexp_S4_sayan/nfw_profile/lensed_by_lss_plus_cluster_MF/npix1024_lpix_0.3amin_lmaxsky6002/M200_2.000000E+14_z0.7/10_sims/trunc\n"
     ]
    }
   ],
   "source": [
    "# We define here the parameters for the profile of the cluster\n",
    "M200, z = 2 * 1e14, 0.7\n",
    "profname = 'nfw'\n",
    "key = \"lss_plus_cluster_MF\" # \"lss\"/\"cluster\"/\"lss_plus_cluster\"\n",
    "profparams={'M200c':M200, 'z':z}\n",
    "hprofile = profile.profile(results, profname)\n",
    "xmax = 3*hprofile.get_concentration(M200, z)\n",
    "# Define here the map square patches\n",
    "npix = 1024  # Number of pixels\n",
    "lpix_amin = 0.3 # Physical size of a pixel in arcmin (There is bug when <0.2 amin, due to low precision in Cl_TE at )\n",
    "\n",
    "print(\"The size of the data patch is %0.1f X %0.1f arcmin central box\"%(npix*lpix_amin, npix*lpix_amin))\n",
    "\n",
    "# Maximum multipole used to generate the CMB maps from the CMB power spectra\n",
    "# ellmaxsky = 6000 # (bug when ellmax>6300 because of low precision in Cl_TE of CAMB )\n",
    "ellmaxsky = 6002 \n",
    "\n",
    "# Set the maximum ell observed in the CMB data maps\n",
    "ellmaxdat = 4000\n",
    "ellmindat = 100\n",
    "\n",
    "# Number of simulated maps \n",
    "nsims = 10\n",
    "\n",
    "# Set CMB experiment for noise level and beam\n",
    "cmb_exp='S4_sayan'\n",
    "\n",
    "# We will cache things in this directory \n",
    "libdir = lensingmap.get_cluster_libdir(cambinifile,  profname, key, npix, lpix_amin, ellmaxsky, M200, z, nsims, cmb_exp)\n",
    "libdir = op.join(libdir,\"trunc\")\n",
    "print(libdir)"
   ]
  },
  {
   "cell_type": "code",
   "execution_count": 4,
   "metadata": {},
   "outputs": [],
   "source": [
    "def cli(cl):\n",
    "    ret = np.zeros_like(cl)\n",
    "    ret[np.where(cl > 0)] = 1. / cl[np.where(cl > 0)]\n",
    "    return ret\n",
    "\n",
    "def pp_to_kk(ls):\n",
    "    return ls ** 2 * (ls+1.) ** 2 * 0.25 \n",
    "\n",
    "def p_to_k(ls):\n",
    "    return ls * (ls+1.) * 0.5\n",
    "\n",
    "def kk_to_pp(ls):\n",
    "    return cli(pp_to_kk(ls))\n",
    "\n",
    "def k_to_p(ls):\n",
    "    return cli(p_to_k(ls))\n",
    "\n",
    "def th_amin_to_el(th_amin):\n",
    "    th_rd = (th_amin/60)*(np.pi/180)\n",
    "    return np.pi/th_rd"
   ]
  },
  {
   "cell_type": "code",
   "execution_count": 5,
   "metadata": {},
   "outputs": [],
   "source": [
    "lmax = ellmaxsky\n",
    "cpp_fid = results.get_lens_potential_cls(lmax=lmax, raw_cl=True).T[0]\n",
    "\n",
    "camb_cls = results.get_unlensed_scalar_cls(CMB_unit='muK', raw_cl=True, lmax=lmax).T\n",
    "cls_unl_fid = {'tt':camb_cls[0], 'ee':camb_cls[1], 'bb':camb_cls[2], 'te':camb_cls[3], 'pp':cpp_fid}\n",
    "\n",
    "camb_cls_len = results.get_lensed_scalar_cls(CMB_unit='muK', raw_cl=True, lmax=lmax).T\n",
    "cls_len_fid = {'tt':camb_cls_len[0], 'ee':camb_cls_len[1], 'bb':camb_cls_len[2], 'te':camb_cls_len[3], 'pp':cpp_fid}"
   ]
  },
  {
   "cell_type": "code",
   "execution_count": 6,
   "metadata": {},
   "outputs": [
    {
     "name": "stderr",
     "output_type": "stream",
     "text": [
      "/Users/sayan/Project_Geneva/modules/LensIt/lensit/clusterlens/profile.py:320: RuntimeWarning: invalid value encountered in true_divide\n",
      "  dx_lm = 2 * rfft_kappa * 1.j * KX / (KX**2+KY**2)\n",
      "/Users/sayan/Project_Geneva/modules/LensIt/lensit/clusterlens/profile.py:321: RuntimeWarning: invalid value encountered in true_divide\n",
      "  dy_lm = 2 * rfft_kappa * 1.j * KY / (KX**2+KY**2)\n"
     ]
    }
   ],
   "source": [
    "np.random.seed(seed=20)\n",
    "clustermaps = lensingmap.cluster_maps(libdir, key, npix, lpix_amin, nsims, results, profparams, profilename=profname,  ellmax_sky = ellmaxsky, ellmax_data=ellmaxdat, ellmin_data=ellmindat, cmb_exp=cmb_exp)"
   ]
  },
  {
   "cell_type": "code",
   "execution_count": 7,
   "metadata": {},
   "outputs": [],
   "source": [
    "ellmax_sky = clustermaps.ellmax_sky\n",
    "sN_uKamin, sN_uKaminP, Beam_FWHM_amin, ellmin, ellmax = li.get_config(clustermaps.cmb_exp)\n",
    "\n",
    "cls_noise = {'t': (sN_uKamin * np.pi / 180. / 60.) ** 2 * np.ones(clustermaps.ellmax_sky + 1),\n",
    "            'q':(sN_uKaminP * np.pi / 180. / 60.) ** 2 * np.ones(clustermaps.ellmax_sky + 1),\n",
    "            'u':(sN_uKaminP * np.pi / 180. / 60.) ** 2 * np.ones(clustermaps.ellmax_sky + 1)}  # simple flat noise Cls\n",
    "# cl_transf = gauss_beam(Beam_FWHM_amin / 60. * np.pi / 180., lmax=ellmax_sky)\n",
    "# lib_alm = ell_mat.ffs_alm_pyFFTW(get_ellmat(LD_res, HD_res=HD_res),\n",
    "                    # filt_func=lambda ell: (ell >= ellmin) & (ell <= ellmax), num_threads=pyFFTWthreads)\n",
    "# lib_skyalm = ell_mat.ffs_alm_pyFFTW(clustermaps.ellmat,\n",
    "                    # filt_func=lambda ell: (ell <= ellmax_sky), num_threads=clustermaps.num_threads)\n",
    "\n",
    "cl_transf = clustermaps.cl_transf\n",
    "lib_skyalm = clustermaps.lib_skyalm\n",
    "\n",
    "typ = 'T'\n",
    "\n",
    "lib_dir = op.join(clustermaps.dat_libdir, typ)\n",
    "# isocov = ffs_cov.ffs_diagcov_alm(lib_dir, clustermaps.lib_datalm, clustermaps.cls_unl, cls_len, cl_transf, cls_noise, lib_skyalm=lib_skyalm)\n",
    "isocov = ffs_cov.ffs_diagcov_alm(lib_dir, clustermaps.lib_datalm, cls_unl_fid, cls_len_fid, cl_transf, cls_noise, lib_skyalm=lib_skyalm)"
   ]
  },
  {
   "cell_type": "code",
   "execution_count": 8,
   "metadata": {},
   "outputs": [],
   "source": [
    "from lensit.ffs_iterators.ffs_iterator_nufft import ffs_iterator_pertMF, ffs_iterator_cstMF\n",
    "from lensit.misc.misc_utils import gauss_beam\n",
    "from lensit.qcinv import ffs_ninv_filt_ideal_nufft, chain_samples\n",
    "from lensit.ffs_deflect import ffs_deflect\n",
    "from lensit.ffs_covs import ell_mat\n",
    "from lensit.ffs_qlms import qlms as ql\n",
    "\n",
    "lib_qlm = lib_skyalm\n",
    "lib_datalm = clustermaps.lib_datalm"
   ]
  },
  {
   "cell_type": "code",
   "execution_count": 9,
   "metadata": {},
   "outputs": [],
   "source": [
    "key = \"p\"\n",
    "it = 2\n",
    "use_Pool = 0"
   ]
  },
  {
   "cell_type": "code",
   "execution_count": 10,
   "metadata": {},
   "outputs": [],
   "source": [
    "def get_MF(idx, typ, clustermaps):\n",
    "    lib_qlm = lib_skyalm #: This means we will reconstruct the lensing potential for all unlensed sky modes.\n",
    "    ellmax_sky = lib_skyalm.ellmax\n",
    "    cls_unl = clustermaps.cls_unl\n",
    "    ell = np.arange(ellmax_sky+1)\n",
    "\n",
    "    if typ=='QU':\n",
    "        datalms = np.array([isocov.lib_datalm.map2alm(m) for m in clustermaps.maps_lib.get_sim_qumap(idx)]) \n",
    "    elif typ =='T':\n",
    "        datalms = np.array([isocov.lib_datalm.map2alm(clustermaps.maps_lib.get_sim_tmap(idx))]) \n",
    "    elif typ =='TQU':\n",
    "        datalms = np.array([isocov.lib_datalm.map2alm(m) for m in np.array([clustermaps.maps_lib.get_sim_tmap(idx), clustermaps.maps_lib.get_sim_qumap(idx)[0], clustermaps.maps_lib.get_sim_qumap(idx)[1]])]) \n",
    "    f_id = ffs_deflect.ffs_id_displacement(lib_skyalm.shape, lib_skyalm.lsides)    \n",
    "    filt = ffs_ninv_filt_ideal_nufft.ffs_ninv_filt_wl(lib_datalm, lib_skyalm, cls_unl, cl_transf, sN_uKamin, sN_uKaminP, f=f_id)\n",
    "    cov = filt\n",
    "    # Description of the multi-grid chain to use: (here the simplest, diagonal pre-conditioner) \n",
    "    chain_descr = chain_samples.get_isomgchain(filt.lib_skyalm.ellmax, filt.lib_datalm.shape,\n",
    "                                                        tol=1e-6,iter_max=200)\n",
    "    \n",
    "    # We assume no primordial B-modes, the E-B filtering will assume all B-modes are either noise or lensing:\n",
    "    opfilt =  li.qcinv.opfilt_cinv_noBB\n",
    "    opfilt._type = typ \n",
    "    mchain = multigrid.multigrid_chain(opfilt=opfilt, _type=typ, chain_descr=chain_descr, cov=filt,\n",
    "                                                    no_deglensing=False)\n",
    "    \n",
    "    soltn = ffs_iterator_cstMF.load_soltn(0, key).copy() * ffs_iterator_cstMF.soltn_cond\n",
    "    mchain.solve(soltn, datalms, finiop='MLIK')\n",
    "    TQUMlik = opfilt.soltn2TQUMlik(soltn, cov)\n",
    "    ResTQUMlik = ffs_iterator_cstMF._mlik2rest_tqumlik(TQUMlik, it, key)\n",
    "    grad = - ql.get_qlms_wl(typ, cov.lib_skyalm, TQUMlik, ResTQUMlik, lib_qlm,\n",
    "                            use_Pool=use_Pool, f=ffs_iterator_cstMF._load_f(it - 1, key))[{'p': 0, 'o': 1}[key.lower()]]    \n",
    "    return grad\n"
   ]
  },
  {
   "cell_type": "code",
   "execution_count": 11,
   "metadata": {},
   "outputs": [
    {
     "name": "stdout",
     "output_type": "stream",
     "text": [
      "0\n",
      "Building nufft fwd plan\n",
      "Building nufft fwd plan\n"
     ]
    },
    {
     "ename": "ValueError",
     "evalue": "operands could not be broadcast together with shapes (4001,) (6003,) ",
     "output_type": "error",
     "traceback": [
      "\u001b[0;31m---------------------------------------------------------------------------\u001b[0m",
      "\u001b[0;31mValueError\u001b[0m                                Traceback (most recent call last)",
      "\u001b[0;32m/var/folders/lq/txnqg8855_n_tmtdx94sjxjw0000gn/T/ipykernel_36014/594750949.py\u001b[0m in \u001b[0;36m<module>\u001b[0;34m\u001b[0m\n\u001b[1;32m      6\u001b[0m     \u001b[0;32mfor\u001b[0m \u001b[0midx\u001b[0m \u001b[0;32min\u001b[0m \u001b[0mrange\u001b[0m\u001b[0;34m(\u001b[0m\u001b[0mnmaps\u001b[0m\u001b[0;34m)\u001b[0m\u001b[0;34m:\u001b[0m\u001b[0;34m\u001b[0m\u001b[0;34m\u001b[0m\u001b[0m\n\u001b[1;32m      7\u001b[0m         \u001b[0mprint\u001b[0m\u001b[0;34m(\u001b[0m\u001b[0midx\u001b[0m\u001b[0;34m)\u001b[0m\u001b[0;34m\u001b[0m\u001b[0;34m\u001b[0m\u001b[0m\n\u001b[0;32m----> 8\u001b[0;31m         \u001b[0mMF_lms\u001b[0m\u001b[0;34m[\u001b[0m\u001b[0midx\u001b[0m\u001b[0;34m]\u001b[0m \u001b[0;34m=\u001b[0m \u001b[0mget_MF\u001b[0m\u001b[0;34m(\u001b[0m\u001b[0midx\u001b[0m\u001b[0;34m,\u001b[0m \u001b[0mtyp\u001b[0m\u001b[0;34m,\u001b[0m \u001b[0mclustermaps\u001b[0m\u001b[0;34m)\u001b[0m\u001b[0;34m\u001b[0m\u001b[0;34m\u001b[0m\u001b[0m\n\u001b[0m",
      "\u001b[0;32m/var/folders/lq/txnqg8855_n_tmtdx94sjxjw0000gn/T/ipykernel_36014/2346571671.py\u001b[0m in \u001b[0;36mget_MF\u001b[0;34m(idx, typ, clustermaps)\u001b[0m\n\u001b[1;32m     21\u001b[0m     \u001b[0mopfilt\u001b[0m \u001b[0;34m=\u001b[0m  \u001b[0mli\u001b[0m\u001b[0;34m.\u001b[0m\u001b[0mqcinv\u001b[0m\u001b[0;34m.\u001b[0m\u001b[0mopfilt_cinv_noBB\u001b[0m\u001b[0;34m\u001b[0m\u001b[0;34m\u001b[0m\u001b[0m\n\u001b[1;32m     22\u001b[0m     \u001b[0mopfilt\u001b[0m\u001b[0;34m.\u001b[0m\u001b[0m_type\u001b[0m \u001b[0;34m=\u001b[0m \u001b[0mtyp\u001b[0m\u001b[0;34m\u001b[0m\u001b[0;34m\u001b[0m\u001b[0m\n\u001b[0;32m---> 23\u001b[0;31m     mchain = multigrid.multigrid_chain(opfilt=opfilt, _type=typ, chain_descr=chain_descr, cov=filt,\n\u001b[0m\u001b[1;32m     24\u001b[0m                                                     no_deglensing=False)\n\u001b[1;32m     25\u001b[0m \u001b[0;34m\u001b[0m\u001b[0m\n",
      "\u001b[0;32m~/Project_Geneva/modules/LensIt/lensit/qcinv/multigrid.py\u001b[0m in \u001b[0;36m__init__\u001b[0;34m(self, opfilt, _type, chain_descr, cov, lib_to_split, debug_log_prefix, plogdepth, no_deglensing)\u001b[0m\n\u001b[1;32m     70\u001b[0m             \u001b[0;32mfor\u001b[0m \u001b[0mpre_op_descr\u001b[0m \u001b[0;32min\u001b[0m \u001b[0mpre_ops_descr\u001b[0m\u001b[0;34m:\u001b[0m  \u001b[0;31m# recursively add all stages to stages[0]\u001b[0m\u001b[0;34m\u001b[0m\u001b[0;34m\u001b[0m\u001b[0m\n\u001b[1;32m     71\u001b[0m                 stages[id].pre_ops.append(\n\u001b[0;32m---> 72\u001b[0;31m                     parse_pre_op_descr(pre_op_descr, opfilt=self.opfilt, cov=cov, lmin=0, libtosplit=lib_to_split,\n\u001b[0m\u001b[1;32m     73\u001b[0m                                        stages=stages, lmax=lmax, nside=nside, chain=self, no_lensing=no_deglensing))\n\u001b[1;32m     74\u001b[0m         \u001b[0;31m# TODO : the no_lensing keyword here just switch on or off the lensing operations on the resolution degraded\u001b[0m\u001b[0;34m\u001b[0m\u001b[0;34m\u001b[0m\u001b[0m\n",
      "\u001b[0;32m~/Project_Geneva/modules/LensIt/lensit/qcinv/multigrid.py\u001b[0m in \u001b[0;36mparse_pre_op_descr\u001b[0;34m(pre_op_descr, **kwargs)\u001b[0m\n\u001b[1;32m    237\u001b[0m         cov = kwargs['cov'].degrade(_shape, no_lensing=True, ellmin=lmin, ellmax=lmax,\n\u001b[1;32m    238\u001b[0m                                     libtodegrade=kwargs['libtosplit'])\n\u001b[0;32m--> 239\u001b[0;31m         \u001b[0;32mreturn\u001b[0m \u001b[0mkwargs\u001b[0m\u001b[0;34m[\u001b[0m\u001b[0;34m'opfilt'\u001b[0m\u001b[0;34m]\u001b[0m\u001b[0;34m.\u001b[0m\u001b[0mpre_op_diag\u001b[0m\u001b[0;34m(\u001b[0m\u001b[0mcov\u001b[0m\u001b[0;34m,\u001b[0m \u001b[0mkwargs\u001b[0m\u001b[0;34m[\u001b[0m\u001b[0;34m'no_lensing'\u001b[0m\u001b[0;34m]\u001b[0m\u001b[0;34m)\u001b[0m\u001b[0;34m\u001b[0m\u001b[0;34m\u001b[0m\u001b[0m\n\u001b[0m\u001b[1;32m    240\u001b[0m \u001b[0;34m\u001b[0m\u001b[0m\n\u001b[1;32m    241\u001b[0m     \u001b[0;32melif\u001b[0m \u001b[0mre\u001b[0m\u001b[0;34m.\u001b[0m\u001b[0mmatch\u001b[0m\u001b[0;34m(\u001b[0m\u001b[0;34m\"pseuddiag_cl\\Z\"\u001b[0m\u001b[0;34m,\u001b[0m \u001b[0mpre_op_descr\u001b[0m\u001b[0;34m)\u001b[0m\u001b[0;34m:\u001b[0m\u001b[0;34m\u001b[0m\u001b[0;34m\u001b[0m\u001b[0m\n",
      "\u001b[0;32m~/Project_Geneva/modules/LensIt/lensit/qcinv/opfilt_cinv_noBB.py\u001b[0m in \u001b[0;36m__init__\u001b[0;34m(self, cov, *args)\u001b[0m\n\u001b[1;32m    100\u001b[0m         \u001b[0;32mif\u001b[0m \u001b[0m_type\u001b[0m \u001b[0;34m==\u001b[0m \u001b[0;34m'T'\u001b[0m\u001b[0;34m:\u001b[0m\u001b[0;34m\u001b[0m\u001b[0;34m\u001b[0m\u001b[0m\n\u001b[1;32m    101\u001b[0m             \u001b[0mNTi\u001b[0m \u001b[0;34m=\u001b[0m \u001b[0mcov\u001b[0m\u001b[0;34m.\u001b[0m\u001b[0miNoiseCl\u001b[0m\u001b[0;34m(\u001b[0m\u001b[0m_type\u001b[0m\u001b[0;34m[\u001b[0m\u001b[0;36m0\u001b[0m\u001b[0;34m]\u001b[0m\u001b[0;34m)\u001b[0m\u001b[0;34m\u001b[0m\u001b[0;34m\u001b[0m\u001b[0m\n\u001b[0;32m--> 102\u001b[0;31m             \u001b[0minv_cls\u001b[0m\u001b[0;34m[\u001b[0m\u001b[0;34m'tt'\u001b[0m\u001b[0;34m]\u001b[0m \u001b[0;34m+=\u001b[0m \u001b[0mcov\u001b[0m\u001b[0;34m.\u001b[0m\u001b[0mcl_transf\u001b[0m \u001b[0;34m**\u001b[0m \u001b[0;36m2\u001b[0m \u001b[0;34m*\u001b[0m \u001b[0mNTi\u001b[0m \u001b[0;34m*\u001b[0m \u001b[0;34m(\u001b[0m\u001b[0minv_cls\u001b[0m\u001b[0;34m[\u001b[0m\u001b[0;34m'tt'\u001b[0m\u001b[0;34m]\u001b[0m \u001b[0;34m>\u001b[0m \u001b[0;36m0\u001b[0m\u001b[0;34m)\u001b[0m\u001b[0;34m\u001b[0m\u001b[0;34m\u001b[0m\u001b[0m\n\u001b[0m\u001b[1;32m    103\u001b[0m         \u001b[0;32melif\u001b[0m \u001b[0m_type\u001b[0m \u001b[0;34m==\u001b[0m \u001b[0;34m'QU'\u001b[0m\u001b[0;34m:\u001b[0m\u001b[0;34m\u001b[0m\u001b[0;34m\u001b[0m\u001b[0m\n\u001b[1;32m    104\u001b[0m             \u001b[0mNPi\u001b[0m \u001b[0;34m=\u001b[0m \u001b[0;36m0.5\u001b[0m \u001b[0;34m*\u001b[0m \u001b[0;34m(\u001b[0m\u001b[0mcov\u001b[0m\u001b[0;34m.\u001b[0m\u001b[0miNoiseCl\u001b[0m\u001b[0;34m(\u001b[0m\u001b[0m_type\u001b[0m\u001b[0;34m[\u001b[0m\u001b[0;36m0\u001b[0m\u001b[0;34m]\u001b[0m\u001b[0;34m)\u001b[0m \u001b[0;34m+\u001b[0m \u001b[0mcov\u001b[0m\u001b[0;34m.\u001b[0m\u001b[0miNoiseCl\u001b[0m\u001b[0;34m(\u001b[0m\u001b[0m_type\u001b[0m\u001b[0;34m[\u001b[0m\u001b[0;36m1\u001b[0m\u001b[0;34m]\u001b[0m\u001b[0;34m)\u001b[0m\u001b[0;34m)\u001b[0m\u001b[0;34m\u001b[0m\u001b[0;34m\u001b[0m\u001b[0m\n",
      "\u001b[0;31mValueError\u001b[0m: operands could not be broadcast together with shapes (4001,) (6003,) "
     ]
    }
   ],
   "source": [
    "nmaps = 10\n",
    "MF_lms = [None]*nmaps\n",
    "\n",
    "\n",
    "if nsims >1:\n",
    "    for idx in range(nmaps):\n",
    "        print(idx)\n",
    "        MF_lms[idx] = get_MF(idx, typ, clustermaps)"
   ]
  },
  {
   "cell_type": "code",
   "execution_count": null,
   "metadata": {},
   "outputs": [],
   "source": []
  }
 ],
 "metadata": {
  "kernelspec": {
   "display_name": "Python 3.9.13 ('clusterlens')",
   "language": "python",
   "name": "python3"
  },
  "language_info": {
   "codemirror_mode": {
    "name": "ipython",
    "version": 3
   },
   "file_extension": ".py",
   "mimetype": "text/x-python",
   "name": "python",
   "nbconvert_exporter": "python",
   "pygments_lexer": "ipython3",
   "version": "3.9.13"
  },
  "orig_nbformat": 4,
  "vscode": {
   "interpreter": {
    "hash": "6584a1406ccf116ed6e64b82cf8928006da326cae965cdec4214e8262bf15d37"
   }
  }
 },
 "nbformat": 4,
 "nbformat_minor": 2
}
