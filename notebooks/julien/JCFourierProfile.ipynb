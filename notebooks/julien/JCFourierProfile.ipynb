{
 "cells": [
  {
   "cell_type": "markdown",
   "metadata": {},
   "source": [
    "Spherical harmonic transforms are:\n",
    "$$f_{\\ell m } = \\int d^2n\\: f(\\hat n) \\:Y^\\dagger_{\\ell m}$$\n",
    "For a spherically symmetric function on the curved-sky we have\n",
    "$$ \\kappa_{LM} = \\delta_{M 0} \\sqrt {\\frac{2 L + 1}{4\\pi}} 2\\pi \\int_{-1}^{+1} d\\cos \\theta\\: \\kappa(\\theta) P_L(\\cos\\theta) \\equiv  \\delta_{M 0} \\sqrt {\\frac{2 L + 1}{4\\pi}} \\kappa_L.$$\n",
    "Here $\\kappa_L$ is the standard spin-0 Wigner transform of the profile, and there is a prefactor $\\sqrt {\\frac{2 L + 1}{4\\pi}}$ to go to $\\kappa_{L0}$.\n",
    "The $C_L$'s becomes trivially\n",
    "$$\\frac{1}{2L + 1}\\sum_M |\\kappa_{LM}|^2 = C_L^{\\kappa\\kappa} \\equiv \\frac{ \\kappa_L^2}{4\\pi}$$\n",
    "We have the asymptotics\n",
    "$$ d^\\ell_{0, 0}(\\theta) = P_\\ell(\\cos \\theta) \\underbrace{\\rightarrow}_{\\ell \\rightarrow \\infty} J_0(\\ell \\theta) $$\n",
    "with which we can make the following identifications for isotropic functions between the curved-space harmonics and flat-sky harmonics:\n",
    "$$\\kappa(\\theta) = \\sum_L \\frac{2 L + 1}{4\\pi} \\kappa_L P_L(\\cos \\theta) \\sim \\frac{1}{2\\pi }\\int_0^\\infty d\\ell \\ell \\kappa_\\ell J_0(\\ell \\theta) = \\int \\frac{d^2\\boldsymbol{l}}{(2\\pi)^2} \\:\\kappa_l e^{i \\boldsymbol{\\ell }\\cdot \\boldsymbol \\theta}$$\n",
    "This means that the flat-sky and curved harmonics must match provided the flat-sky Fourier convention. Indeed:\n",
    "$$\n",
    "\\kappa(\\ell) = \\int d^2 x\\: \\kappa(x) e^{- i \\boldsymbol{\\ell}\\cdot\\boldsymbol{x}} =2\\pi \\int_0^{\\infty} d\\theta \\: \\theta \\kappa(\\theta) J_0(\\theta \\ell) \\sim 2\\pi \\int_{-1}^1 d \\cos (\\theta )\\:\\kappa(\\theta P_\\ell(\\cos \\theta) = \\kappa_L \n",
    "$$"
   ]
  },
  {
   "cell_type": "markdown",
   "metadata": {},
   "source": [
    "# template fitting\n",
    "\n",
    "Say we want the amplitude of a template $\\kappa_t$ using a noisy tracer with noise spectrum $N_L$. We have observations $\\hat \\kappa_LM$ which should fit the template $\\kappa_0\\kappa^t_{LM}$\n",
    "Assuming Gaussianity and isotropic noise $\\av{\\hat \\kappa_{L0}\\hat \\kappa_{L'0}} - \\av{\\hat \\kappa_{L0}}\\av{\\hat \\kappa_{L'0}} = \\delta_{LL'} N_L$ we build\n",
    "$$ \\frac{\\sum_L  \\kappa^t_{L0} \\hat \\kappa_{L0} N^{-1}_L}{\\sum_L  \\kappa^t_{L0} \\hat \\kappa^t_{L0} N^{-1}_L} $$\n",
    "The Fisher error is the denominator\n",
    "$$\n",
    "\\frac{1}{\\sigma^2} = \\sum_L  \\frac{ |\\kappa^t_{L0}|^2 }{N_L}= \\sum_L  \\left(\\frac{2L + 1}{4\\pi} \\right)\\frac{ |\\kappa^t_L|^2 }{N_L} \\textrm{ which in flat sky gives }\\sim  \\frac 1 {2\\pi} \\int dl \\: l  \\frac{ |\\kappa^t_l|^2 }{N_l} =\\int \\frac{d^2l}{(2\\pi)^2} \\: \\frac{ |\\kappa^t_l|^2 }{N_l}\n",
    "$$\n",
    "with the conventions above (with these conventions, note the $4\\pi$ (sphere area) in $\\textrm{Var}(\\kappa_t) = 4\\pi N_L$\n",
    "\n",
    "In Zubeldia & Challinor $\\kappa_t$ is unity at the scale radius angle. "
   ]
  },
  {
   "cell_type": "code",
   "execution_count": 1,
   "metadata": {},
   "outputs": [],
   "source": [
    "%load_ext autoreload\n",
    "%autoreload 2\n",
    "import pylab as pl\n",
    "import numpy as np \n",
    "import camb \n",
    "\n",
    "import lensit as li\n",
    "from lensit.clusterlens import lensingmap\n",
    "\n",
    "from lensit.misc.misc_utils import gauss_beam\n",
    "from lensit.ffs_covs import ffs_cov, ell_mat\n",
    "\n",
    "import os\n",
    "import os.path as op\n",
    "import matplotlib as mpl\n",
    "from matplotlib import pyplot as plt\n",
    "\n",
    "from scipy.interpolate import UnivariateSpline as spline\n",
    "\n",
    "\n"
   ]
  },
  {
   "cell_type": "code",
   "execution_count": 2,
   "metadata": {},
   "outputs": [],
   "source": [
    "# We start by intiating CAMB which will give us the relevant cosmology \n",
    "cambinifile = 'planck_2018_acc'\n",
    "pars = camb.read_ini(op.join(op.dirname(camb.__path__[0]),  'inifiles', cambinifile + '.ini'))\n",
    "results = camb.get_results(pars)\n"
   ]
  },
  {
   "cell_type": "code",
   "execution_count": 6,
   "metadata": {},
   "outputs": [
    {
     "name": "stdout",
     "output_type": "stream",
     "text": [
      "thmax in amin, thscale 2.139100514187885 0.6846534736764758\n"
     ]
    },
    {
     "name": "stderr",
     "output_type": "stream",
     "text": [
      "/Users/jcarron/Library/CloudStorage/OneDrive-unige.ch/LensIt/lensit/clusterlens/profile.py:178: RuntimeWarning: invalid value encountered in subtract\n",
      "  Cidiff = Cixpc - Cix\n",
      "/Users/jcarron/Library/CloudStorage/OneDrive-unige.ch/LensIt/lensit/clusterlens/profile.py:179: RuntimeWarning: invalid value encountered in true_divide\n",
      "  u0 = np.sin(x) * Sidiff + np.cos(x) * Cidiff - np.sin(x * c) / (x * (1. + c))\n"
     ]
    },
    {
     "data": {
      "text/plain": [
       "<matplotlib.legend.Legend at 0x7fb97a1c8b80>"
      ]
     },
     "execution_count": 6,
     "metadata": {},
     "output_type": "execute_result"
    },
    {
     "data": {
      "image/png": "[encoded data removed]",
      "text/plain": [
       "<Figure size 432x288 with 1 Axes>"
      ]
     },
     "metadata": {
      "needs_background": "light"
     },
     "output_type": "display_data"
    }
   ],
   "source": [
    "from lensit.clusterlens import profile\n",
    "from plancklens.wigners import wigners\n",
    "hprofile = profile.profile(results)\n",
    "\n",
    "# x = r / rs\n",
    "M200, z = 2 * 1e14, 0.7\n",
    "xmax = hprofile.get_concentration(M200, z) # truncating at virial radius seems like at reasonable thing\n",
    "lmax = 6000\n",
    "thtmax = hprofile.x_to_theta_amin(M200, z, xmax)\n",
    "thtscale = hprofile.x_to_theta_amin(M200, z, 1.)\n",
    "\n",
    "print('thmax in amin, thscale', thtmax, thtscale)\n",
    "xg, wg = wigners.get_xgwg(np.cos(thtmax / 180 / 60 * np.pi),1., max(5000, int(lmax * thtmax / (360 * 60))))\n",
    "kappa = hprofile.kappa_theta(M200, 1., np.arccos(xg) / np.pi * 180 * 60 )\n",
    "kappa_l = wigners.wignercoeff(kappa * wg, xg, 0, 0, lmax) \n",
    "kappa_0 = hprofile.kappa_theta(M200, z, thtscale *(1.001) )[0]\n",
    "ft_analytical = hprofile.analitic_kappa_ft(M200,z, np.arange(lmax + 1))\n",
    "pl.title('Harmonic transform of profil')\n",
    "pl.plot(kappa_l, label='JC SHT')\n",
    "pl.plot(ft_analytical, label='repo analytical')\n",
    "pl.legend()"
   ]
  },
  {
   "cell_type": "code",
   "execution_count": 4,
   "metadata": {},
   "outputs": [
    {
     "name": "stdout",
     "output_type": "stream",
     "text": [
      " [00:00:38]  ---------> 90%\n"
     ]
    },
    {
     "data": {
      "text/plain": [
       "(0.0004, 0.1)"
      ]
     },
     "execution_count": 4,
     "metadata": {},
     "output_type": "execute_result"
    },
    {
     "data": {
      "image/png": "[encoded data removed]",
      "text/plain": [
       "<Figure size 432x288 with 1 Axes>"
      ]
     },
     "metadata": {
      "needs_background": "light"
     },
     "output_type": "display_data"
    }
   ],
   "source": [
    "import plancklens\n",
    "import healpy as hp\n",
    "from plancklens import qresp\n",
    "from plancklens import utils\n",
    "from plancklens.utils import cli\n",
    "cls_path = os.path.join(os.path.dirname(os.path.abspath(plancklens.__file__)), 'data', 'cls')\n",
    "cls_len = utils.camb_clfile(os.path.join(cls_path, 'FFP10_wdipole_lensedCls.dat'))\n",
    "cls_unl = utils.camb_clfile(os.path.join(cls_path, 'FFP10_wdipole_lenspotentialCls.dat'))\n",
    "\n",
    "cls_weight = utils.camb_clfile(os.path.join(cls_path, 'FFP10_wdipole_lensedCls.dat'))\n",
    "k, ksource = 'ptt', 'p'\n",
    "\n",
    "lmin_ivf, lmax_ivf, lmax_qlm = 100, 5000, lmax\n",
    "transf = hp.gauss_beam(1. / 180 / 60 * np.pi, lmax=lmax_ivf)\n",
    "nlevts = np.logspace(-1, 1, 10)\n",
    "sigma = {'ptt':np.zeros(nlevts.size), 'p_p':np.zeros(nlevts.size)}\n",
    "kSZ_Dl = 2.9 # uK^2\n",
    "wCkk = True\n",
    "kSZ_Cl = kSZ_Dl * utils.cli(np.arange(lmax_ivf + 1) * np.arange(1, lmax_ivf + 2) / 2 / np.pi)\n",
    "for i, nlevt in utils.enumerate_progress(nlevts):\n",
    "    fals = {'tt': cli(cls_len['tt'][:lmax_ivf + 1] + (nlevt / 180 / 60 * np.pi) ** 2 / transf ** 2) + kSZ_Cl / transf ** 2}\n",
    "    fals['tt'][:lmin_ivf] *= 0.\n",
    "    fals['ee'] = cli(cls_len['ee'][:lmax_ivf + 1] + (nlevt * np.sqrt(2.) / 180 / 60 * np.pi) ** 2 / transf ** 2)\n",
    "    fals['ee'][:lmin_ivf] *= 0.\n",
    "    fals['bb'] = cli(cls_len['bb'][:lmax_ivf + 1] + (nlevt * np.sqrt(2.) / 180 / 60 * np.pi) ** 2 / transf ** 2)\n",
    "    fals['bb'][:lmin_ivf] *= 0.\n",
    "    for k in ['ptt', 'p_p']:\n",
    "        N0_pp = utils.cli(qresp.get_response(k, lmax_ivf, ksource, cls_weight, cls_len, fals, lmax_qlm=lmax_qlm)[0])\n",
    "        N0_pp += wCkk * cls_unl['pp'][:lmax_qlm+1]\n",
    "        N0_kk = N0_pp * np.arange(lmax_qlm + 1, dtype=float) ** 2 * np.arange(1, lmax_qlm + 2, dtype=float) ** 2 * 0.25\n",
    "        ls = np.arange(1, lmax_qlm + 1)\n",
    "        F_intg =  (2 * ls  + 1) * (kappa_l[ls] / kappa_0) ** 2 / N0_kk[ls] / (4 * np.pi)\n",
    "        sigma[k][i] = np.sqrt(1./np.sum(F_intg)) / kappa_0\n",
    "\n",
    "pl.loglog(nlevts, sigma['ptt']/np.sqrt(10 ** 5), label=  ' QE TT ')\n",
    "pl.loglog(nlevts, sigma['p_p']/np.sqrt(10 ** 5), label=  ' QE Pol ')\n",
    "\n",
    "pl.legend()\n",
    "pl.xlabel(r'$N_{\\rm lev}^T$  in $\\mu$K-amin', fontsize=14)\n",
    "pl.ylabel('$\\sigma(M) / M$ for $10^5$  clusters', fontsize=14)\n",
    "pl.ylim(4e-4, 1e-1)"
   ]
  }
 ],
 "metadata": {
  "kernelspec": {
   "display_name": "Python 3",
   "language": "python",
   "name": "python3"
  },
  "language_info": {
   "codemirror_mode": {
    "name": "ipython",
    "version": 3
   },
   "file_extension": ".py",
   "mimetype": "text/x-python",
   "name": "python",
   "nbconvert_exporter": "python",
   "pygments_lexer": "ipython3",
   "version": "3.8.3"
  }
 },
 "nbformat": 4,
 "nbformat_minor": 4
}
